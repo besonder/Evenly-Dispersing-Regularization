{
 "cells": [
  {
   "cell_type": "code",
   "execution_count": 1,
   "id": "ce4c7379",
   "metadata": {},
   "outputs": [],
   "source": [
    "import torch\n",
    "import torch.optim as optim\n",
    "import torch.nn as nn\n",
    "import torch.nn.functional as F\n",
    "import torchvision\n",
    "import torchvision.transforms as transforms\n",
    "from torch.utils.data import DataLoader\n",
    "import numpy as np\n",
    "import gudhi as gd\n",
    "from scipy.sparse.csgraph import minimum_spanning_tree"
   ]
  },
  {
   "cell_type": "code",
   "execution_count": 2,
   "id": "4ce82256",
   "metadata": {},
   "outputs": [],
   "source": [
    "def PH0(weight, mel=1000):\n",
    "    if len(weight) == 2:\n",
    "        weight = weight[0]\n",
    "    m = weight.shape[0]\n",
    "    W = weight.view(m, -1)\n",
    "    rips = gd.RipsComplex(W, max_edge_length=mel)\n",
    "    st = rips.create_simplex_tree(max_dimension=0)\n",
    "    st.compute_persistence()\n",
    "    idx = st.flag_persistence_generators()\n",
    "    if len(idx[0]) == 0:\n",
    "        verts = torch.empty((0, 2), dtype=int)\n",
    "    else:\n",
    "        verts = torch.tensor(idx[0][:, 1:])\n",
    "    dgm = torch.norm(W[verts[:, 0], :] - W[verts[:, 1], :], dim=-1)\n",
    "    tloss = torch.sum(dgm)\n",
    "\n",
    "    norm = torch.norm(W, dim=1)\n",
    "    nloss = torch.sum((1 - norm**2)**2)\n",
    "    return nloss, tloss\n",
    "\n",
    "\n",
    "def MST(weight):\n",
    "    if len(weight) == 2:\n",
    "        weight = weight[0]\n",
    "    m = weight.shape[0]\n",
    "    W = weight.view(m, -1)\n",
    "    dist = torch.sqrt(torch.sum(torch.pow(W[:, None, :] - W[None, :, :], 2), dim=2))\n",
    "    Tscr = minimum_spanning_tree(dist.detach().cpu().numpy())\n",
    "    result = Tscr.toarray()\n",
    "    mst = np.where(result > 0)\n",
    "    tloss = torch.sqrt(((W[mst[0]] - W[mst[1]])**2).sum(-1)).sum()\n",
    "\n",
    "    norm = torch.norm(W, dim=1)\n",
    "    nloss = torch.sum((1 - norm**2)**2)\n",
    "    return nloss, tloss"
   ]
  },
  {
   "cell_type": "code",
   "execution_count": 51,
   "id": "c7ef04f0",
   "metadata": {},
   "outputs": [],
   "source": [
    "weight = torch.randn(128, 2048, 3, 3)"
   ]
  },
  {
   "cell_type": "code",
   "execution_count": 52,
   "id": "41182a1e",
   "metadata": {},
   "outputs": [
    {
     "name": "stdout",
     "output_type": "stream",
     "text": [
      "CPU times: user 1.34 s, sys: 5.09 s, total: 6.44 s\n",
      "Wall time: 321 ms\n"
     ]
    },
    {
     "data": {
      "text/plain": [
       "(tensor(4.3503e+10), tensor(24108.1094))"
      ]
     },
     "execution_count": 52,
     "metadata": {},
     "output_type": "execute_result"
    }
   ],
   "source": [
    "%%time\n",
    "MST(weight)"
   ]
  },
  {
   "cell_type": "code",
   "execution_count": 53,
   "id": "4a1b7baf",
   "metadata": {},
   "outputs": [
    {
     "name": "stdout",
     "output_type": "stream",
     "text": [
      "CPU times: user 3.88 s, sys: 211 ms, total: 4.09 s\n",
      "Wall time: 3.77 s\n"
     ]
    },
    {
     "data": {
      "text/plain": [
       "(tensor(4.3503e+10), tensor(24108.0957))"
      ]
     },
     "execution_count": 53,
     "metadata": {},
     "output_type": "execute_result"
    }
   ],
   "source": [
    "%%time\n",
    "PH0(weight)"
   ]
  },
  {
   "cell_type": "code",
   "execution_count": 54,
   "id": "b179f5be",
   "metadata": {},
   "outputs": [],
   "source": [
    "weight = torch.randn(256, 1024, 3, 3)"
   ]
  },
  {
   "cell_type": "code",
   "execution_count": 55,
   "id": "a526fea1",
   "metadata": {},
   "outputs": [
    {
     "name": "stdout",
     "output_type": "stream",
     "text": [
      "CPU times: user 2.42 s, sys: 9.11 s, total: 11.5 s\n",
      "Wall time: 592 ms\n"
     ]
    },
    {
     "data": {
      "text/plain": [
       "(tensor(2.1760e+10), tensor(33985.5508))"
      ]
     },
     "execution_count": 55,
     "metadata": {},
     "output_type": "execute_result"
    }
   ],
   "source": [
    "%%time\n",
    "MST(weight)"
   ]
  },
  {
   "cell_type": "code",
   "execution_count": 56,
   "id": "3d53df4d",
   "metadata": {},
   "outputs": [
    {
     "name": "stdout",
     "output_type": "stream",
     "text": [
      "CPU times: user 3.79 s, sys: 46.4 ms, total: 3.83 s\n",
      "Wall time: 3.74 s\n"
     ]
    },
    {
     "data": {
      "text/plain": [
       "(tensor(2.1760e+10), tensor(33985.5391))"
      ]
     },
     "execution_count": 56,
     "metadata": {},
     "output_type": "execute_result"
    }
   ],
   "source": [
    "%%time\n",
    "PH0(weight)"
   ]
  },
  {
   "cell_type": "code",
   "execution_count": 57,
   "id": "7d9fa488",
   "metadata": {},
   "outputs": [],
   "source": [
    "weight = torch.randn(512, 512, 3, 3)"
   ]
  },
  {
   "cell_type": "code",
   "execution_count": 58,
   "id": "349b3d22",
   "metadata": {},
   "outputs": [
    {
     "name": "stdout",
     "output_type": "stream",
     "text": [
      "CPU times: user 3.75 s, sys: 17.2 s, total: 20.9 s\n",
      "Wall time: 1.12 s\n"
     ]
    },
    {
     "data": {
      "text/plain": [
       "(tensor(1.0831e+10), tensor(47651.5469))"
      ]
     },
     "execution_count": 58,
     "metadata": {},
     "output_type": "execute_result"
    }
   ],
   "source": [
    "%%time\n",
    "MST(weight)"
   ]
  },
  {
   "cell_type": "code",
   "execution_count": 59,
   "id": "979ab810",
   "metadata": {},
   "outputs": [
    {
     "name": "stdout",
     "output_type": "stream",
     "text": [
      "CPU times: user 3.66 s, sys: 57.3 ms, total: 3.72 s\n",
      "Wall time: 3.44 s\n"
     ]
    },
    {
     "data": {
      "text/plain": [
       "(tensor(1.0831e+10), tensor(47651.5430))"
      ]
     },
     "execution_count": 59,
     "metadata": {},
     "output_type": "execute_result"
    }
   ],
   "source": [
    "%%time\n",
    "PH0(weight)"
   ]
  },
  {
   "cell_type": "code",
   "execution_count": 60,
   "id": "3a0cc50b",
   "metadata": {},
   "outputs": [],
   "source": [
    "weight = torch.randn(1024, 256, 3, 3)"
   ]
  },
  {
   "cell_type": "code",
   "execution_count": 61,
   "id": "25861be7",
   "metadata": {},
   "outputs": [
    {
     "name": "stdout",
     "output_type": "stream",
     "text": [
      "CPU times: user 7.07 s, sys: 34.6 s, total: 41.7 s\n",
      "Wall time: 2.33 s\n"
     ]
    },
    {
     "data": {
      "text/plain": [
       "(tensor(5.4262e+09), tensor(66562.6562))"
      ]
     },
     "execution_count": 61,
     "metadata": {},
     "output_type": "execute_result"
    }
   ],
   "source": [
    "%%time\n",
    "MST(weight)"
   ]
  },
  {
   "cell_type": "code",
   "execution_count": 62,
   "id": "547f95c1",
   "metadata": {},
   "outputs": [
    {
     "name": "stdout",
     "output_type": "stream",
     "text": [
      "CPU times: user 4.63 s, sys: 200 ms, total: 4.83 s\n",
      "Wall time: 4.13 s\n"
     ]
    },
    {
     "data": {
      "text/plain": [
       "(tensor(5.4262e+09), tensor(66562.6562))"
      ]
     },
     "execution_count": 62,
     "metadata": {},
     "output_type": "execute_result"
    }
   ],
   "source": [
    "%%time\n",
    "PH0(weight)"
   ]
  },
  {
   "cell_type": "code",
   "execution_count": 63,
   "id": "27f2b2e8",
   "metadata": {},
   "outputs": [],
   "source": [
    "weight = torch.randn(2048, 128, 3, 3)"
   ]
  },
  {
   "cell_type": "code",
   "execution_count": 64,
   "id": "4a0eb931",
   "metadata": {},
   "outputs": [
    {
     "name": "stdout",
     "output_type": "stream",
     "text": [
      "CPU times: user 15.1 s, sys: 1min 13s, total: 1min 28s\n",
      "Wall time: 5.26 s\n"
     ]
    },
    {
     "data": {
      "text/plain": [
       "(tensor(2.7069e+09), tensor(92119.3359))"
      ]
     },
     "execution_count": 64,
     "metadata": {},
     "output_type": "execute_result"
    }
   ],
   "source": [
    "%%time\n",
    "MST(weight)"
   ]
  },
  {
   "cell_type": "code",
   "execution_count": 65,
   "id": "1d672357",
   "metadata": {},
   "outputs": [
    {
     "name": "stdout",
     "output_type": "stream",
     "text": [
      "CPU times: user 7.19 s, sys: 168 ms, total: 7.35 s\n",
      "Wall time: 6.51 s\n"
     ]
    },
    {
     "data": {
      "text/plain": [
       "(tensor(2.7069e+09), tensor(92119.3438))"
      ]
     },
     "execution_count": 65,
     "metadata": {},
     "output_type": "execute_result"
    }
   ],
   "source": [
    "%%time\n",
    "PH0(weight)"
   ]
  },
  {
   "cell_type": "code",
   "execution_count": null,
   "id": "101dd10a",
   "metadata": {},
   "outputs": [],
   "source": []
  },
  {
   "cell_type": "code",
   "execution_count": 14,
   "id": "f0c6e974",
   "metadata": {},
   "outputs": [],
   "source": [
    "check_size = (\n",
    "    (64, 64, 3, 3), \n",
    "    (1024, 512, 3, 3),\n",
    "    (1000, 10), \n",
    "    (10, 1000)\n",
    ")"
   ]
  },
  {
   "cell_type": "code",
   "execution_count": null,
   "id": "3bb4d7c3",
   "metadata": {},
   "outputs": [],
   "source": []
  },
  {
   "cell_type": "code",
   "execution_count": null,
   "id": "60cb2d98",
   "metadata": {},
   "outputs": [],
   "source": [
    "bsize = 512\n",
    "num_worker = 4\n",
    "epochs = 5"
   ]
  },
  {
   "cell_type": "code",
   "execution_count": null,
   "id": "94a1c2d1",
   "metadata": {},
   "outputs": [],
   "source": [
    "train_dataset = torchvision.datasets.CIFAR10(\n",
    "                root='./DATA/', \n",
    "                transform=transforms.Compose(\n",
    "                    [\n",
    "                    transforms.RandomCrop(32, padding=4),\n",
    "                    transforms.RandomHorizontalFlip(),\n",
    "                    transforms.RandomRotation(15),\n",
    "                    transforms.ToTensor(),\n",
    "                    transforms.Normalize((0.4914, 0.4822, 0.4465), (0.2470, 0.2435, 0.2616))\n",
    "                    ]),\n",
    "                train=True)\n",
    "\n",
    "val_dataset = torchvision.datasets.CIFAR10(\n",
    "                root='./DATA/', \n",
    "                transform=transforms.Compose(\n",
    "                    [\n",
    "                    transforms.ToTensor(),\n",
    "                    transforms.Normalize((0.4914, 0.4822, 0.4465), (0.2470, 0.2435, 0.2616))\n",
    "                    ]),\n",
    "                train=False) "
   ]
  },
  {
   "cell_type": "code",
   "execution_count": null,
   "id": "ffd0f25a",
   "metadata": {},
   "outputs": [],
   "source": [
    "train_loader = DataLoader(\n",
    "                    train_dataset, \n",
    "                    batch_size=bsize, \n",
    "                    shuffle=True, \n",
    "                    num_workers=num_worker, \n",
    "                    pin_memory=True, \n",
    "                    )\n",
    "\n",
    "val_loader = DataLoader(\n",
    "                    val_dataset, \n",
    "                    batch_size=bsize, \n",
    "                    shuffle=False, \n",
    "                    num_workers=num_worker, \n",
    "                    pin_memory=True, \n",
    "                    )"
   ]
  },
  {
   "cell_type": "code",
   "execution_count": null,
   "id": "49500f0f",
   "metadata": {},
   "outputs": [],
   "source": [
    "class BasicBlock(nn.Module):\n",
    "    expansion = 1\n",
    "\n",
    "    def __init__(self, in_planes, planes, stride=1):\n",
    "        super(BasicBlock, self).__init__()\n",
    "        self.conv1 = nn.Conv2d(\n",
    "            in_planes, planes, kernel_size=3, stride=stride, padding=1, bias=False)\n",
    "        self.bn1 = nn.BatchNorm2d(planes)\n",
    "        self.conv2 = nn.Conv2d(planes, planes, kernel_size=3,\n",
    "                               stride=1, padding=1, bias=False)\n",
    "        self.bn2 = nn.BatchNorm2d(planes)\n",
    "\n",
    "        self.shortcut = nn.Sequential()\n",
    "        if stride != 1 or in_planes != self.expansion*planes:\n",
    "            self.shortcut = nn.Sequential(\n",
    "                nn.Conv2d(in_planes, self.expansion*planes,\n",
    "                          kernel_size=1, stride=stride, bias=False),\n",
    "                nn.BatchNorm2d(self.expansion*planes)\n",
    "            )\n",
    "\n",
    "    def forward(self, x):\n",
    "        out = F.relu(self.bn1(self.conv1(x)))\n",
    "        out = self.bn2(self.conv2(out))\n",
    "        out += self.shortcut(x)\n",
    "        out = F.relu(out)\n",
    "        return out\n",
    "\n",
    "\n",
    "class Bottleneck(nn.Module):\n",
    "    expansion = 4\n",
    "\n",
    "    def __init__(self, in_planes, planes, stride=1):\n",
    "        super(Bottleneck, self).__init__()\n",
    "        self.conv1 = nn.Conv2d(in_planes, planes, kernel_size=1, bias=False)\n",
    "        self.bn1 = nn.BatchNorm2d(planes)\n",
    "        self.conv2 = nn.Conv2d(planes, planes, kernel_size=3,\n",
    "                               stride=stride, padding=1, bias=False)\n",
    "        self.bn2 = nn.BatchNorm2d(planes)\n",
    "        self.conv3 = nn.Conv2d(planes, self.expansion *\n",
    "                               planes, kernel_size=1, bias=False)\n",
    "        self.bn3 = nn.BatchNorm2d(self.expansion*planes)\n",
    "\n",
    "        self.shortcut = nn.Sequential()\n",
    "        if stride != 1 or in_planes != self.expansion*planes:\n",
    "            self.shortcut = nn.Sequential(\n",
    "                nn.Conv2d(in_planes, self.expansion*planes,\n",
    "                          kernel_size=1, stride=stride, bias=False),\n",
    "                nn.BatchNorm2d(self.expansion*planes)\n",
    "            )\n",
    "\n",
    "    def forward(self, x):\n",
    "        out = F.relu(self.bn1(self.conv1(x)))\n",
    "        out = F.relu(self.bn2(self.conv2(out)))\n",
    "        out = self.bn3(self.conv3(out))\n",
    "        out += self.shortcut(x)\n",
    "        out = F.relu(out)\n",
    "        return out\n",
    "\n",
    "\n",
    "class ResNet(nn.Module):\n",
    "    def __init__(self, block, num_blocks, num_classes=10):\n",
    "        super(ResNet, self).__init__()\n",
    "        self.in_planes = 64\n",
    "\n",
    "        self.conv1 = nn.Conv2d(3, 64, kernel_size=3,\n",
    "                               stride=1, padding=1, bias=False)\n",
    "        self.bn1 = nn.BatchNorm2d(64)\n",
    "        self.layer1 = self._make_layer(block, 64, num_blocks[0], stride=1)\n",
    "        self.layer2 = self._make_layer(block, 128, num_blocks[1], stride=2)\n",
    "        self.layer3 = self._make_layer(block, 256, num_blocks[2], stride=2)\n",
    "        self.layer4 = self._make_layer(block, 512, num_blocks[3], stride=2)\n",
    "        self.linear = nn.Linear(512*block.expansion, num_classes)\n",
    "\n",
    "    def _make_layer(self, block, planes, num_blocks, stride):\n",
    "        strides = [stride] + [1]*(num_blocks-1)\n",
    "        layers = []\n",
    "        for stride in strides:\n",
    "            layers.append(block(self.in_planes, planes, stride))\n",
    "            self.in_planes = planes * block.expansion\n",
    "        return nn.Sequential(*layers)\n",
    "\n",
    "    def forward(self, x):\n",
    "        out = F.relu(self.bn1(self.conv1(x)))\n",
    "        out = self.layer1(out)\n",
    "        out = self.layer2(out)\n",
    "        out = self.layer3(out)\n",
    "        out = self.layer4(out)\n",
    "        out = F.avg_pool2d(out, 4)\n",
    "        out = out.view(out.size(0), -1)\n",
    "        out = self.linear(out)\n",
    "        return out\n",
    "\n",
    "\n",
    "def ResNet18():\n",
    "    return ResNet(BasicBlock, [2, 2, 2, 2])\n",
    "\n",
    "\n",
    "def ResNet34():\n",
    "    return ResNet(BasicBlock, [3, 4, 6, 3])\n",
    "\n",
    "\n",
    "def ResNet50():\n",
    "    return ResNet(Bottleneck, [3, 4, 6, 3])\n",
    "\n",
    "\n",
    "def ResNet101():\n",
    "    return ResNet(Bottleneck, [3, 4, 23, 3])\n",
    "\n",
    "\n",
    "def ResNet152():\n",
    "    return ResNet(Bottleneck, [3, 8, 36, 3])\n"
   ]
  },
  {
   "cell_type": "code",
   "execution_count": null,
   "id": "07074950",
   "metadata": {},
   "outputs": [],
   "source": [
    "epochs = 50\n",
    "lamd = 0.1\n",
    "lr = 0.01\n",
    "weight_decay = 0.0001"
   ]
  },
  {
   "cell_type": "code",
   "execution_count": null,
   "id": "54b4181e",
   "metadata": {},
   "outputs": [],
   "source": [
    "model = ResNet18().cuda()\n",
    "criterion = nn.CrossEntropyLoss()\n",
    "optimizer = optim.SGD(model.parameters(), lr=lr, weight_decay=weight_decay)\n",
    "for e in range(epochs):\n",
    "    for x, y in train_loader:\n",
    "        x = x.cuda()\n",
    "        y = y.cuda()\n",
    "        out = model(x)\n",
    "        loss = criterion(out, y)\n",
    "        optimizer.zero_grad()\n",
    "        loss.backward()\n",
    "        optimizer.step()\n",
    "    \n",
    "    test_num = 0\n",
    "    hit_num = 0\n",
    "    for x, y in val_loader:\n",
    "        x = x.cuda()\n",
    "        y = y.cuda()\n",
    "        test_num += len(y)\n",
    "        out = model(x)\n",
    "        pred = out.argmax(dim=1, keepdim=True)\n",
    "        hit_num += pred.eq(y.view_as(pred)).sum().item()\n",
    "    print(f'epoch: {e}, loss: {loss}, accruacy: {hit_num/test_num}')"
   ]
  },
  {
   "cell_type": "code",
   "execution_count": null,
   "id": "d6c80fcf",
   "metadata": {},
   "outputs": [],
   "source": []
  }
 ],
 "metadata": {
  "kernelspec": {
   "display_name": "Python 3",
   "language": "python",
   "name": "python3"
  },
  "language_info": {
   "codemirror_mode": {
    "name": "ipython",
    "version": 3
   },
   "file_extension": ".py",
   "mimetype": "text/x-python",
   "name": "python",
   "nbconvert_exporter": "python",
   "pygments_lexer": "ipython3",
   "version": "3.6.9"
  }
 },
 "nbformat": 4,
 "nbformat_minor": 5
}
