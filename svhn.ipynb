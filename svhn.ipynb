{
 "cells": [
  {
   "cell_type": "code",
   "execution_count": 1,
   "id": "4ccfcf5a",
   "metadata": {},
   "outputs": [],
   "source": [
    "import torchvision"
   ]
  },
  {
   "cell_type": "code",
   "execution_count": 2,
   "id": "398014bf",
   "metadata": {},
   "outputs": [
    {
     "name": "stdout",
     "output_type": "stream",
     "text": [
      "Downloading http://ufldl.stanford.edu/housenumbers/train_32x32.mat to ./DATA/train_32x32.mat\n"
     ]
    },
    {
     "data": {
      "application/vnd.jupyter.widget-view+json": {
       "model_id": "8f331e038fef4ee898c2273d8c2a6310",
       "version_major": 2,
       "version_minor": 0
      },
      "text/plain": [
       "  0%|          | 0/182040794 [00:00<?, ?it/s]"
      ]
     },
     "metadata": {},
     "output_type": "display_data"
    },
    {
     "name": "stdout",
     "output_type": "stream",
     "text": [
      "Downloading http://ufldl.stanford.edu/housenumbers/test_32x32.mat to ./DATA/test_32x32.mat\n"
     ]
    },
    {
     "data": {
      "application/vnd.jupyter.widget-view+json": {
       "model_id": "f4a0cd18f3494ba69b881395f303c73b",
       "version_major": 2,
       "version_minor": 0
      },
      "text/plain": [
       "  0%|          | 0/64275384 [00:00<?, ?it/s]"
      ]
     },
     "metadata": {},
     "output_type": "display_data"
    }
   ],
   "source": [
    "svhn_train = torchvision.datasets.SVHN('./DATA/SVHN/', 'train', download=True)\n",
    "svhn_test = torchvision.datasets.SVHN('./DATA/SVHN/', 'test', download=True)"
   ]
  },
  {
   "cell_type": "code",
   "execution_count": 6,
   "id": "4fd004ff",
   "metadata": {},
   "outputs": [
    {
     "name": "stdout",
     "output_type": "stream",
     "text": [
      "Downloading http://ufldl.stanford.edu/housenumbers/extra_32x32.mat to ./DATA/SVHN/extra_32x32.mat\n"
     ]
    },
    {
     "data": {
      "application/vnd.jupyter.widget-view+json": {
       "model_id": "28a1b3777e7e4ec6a3fd80ffe8ee41c9",
       "version_major": 2,
       "version_minor": 0
      },
      "text/plain": [
       "  0%|          | 0/1329278602 [00:00<?, ?it/s]"
      ]
     },
     "metadata": {},
     "output_type": "display_data"
    }
   ],
   "source": [
    "svhn_extra = torchvision.datasets.SVHN('./DATA/SVHN/', 'extra', download=True)"
   ]
  },
  {
   "cell_type": "code",
   "execution_count": 3,
   "id": "4d788a4d",
   "metadata": {},
   "outputs": [
    {
     "data": {
      "text/plain": [
       "['__abstractmethods__',\n",
       " '__add__',\n",
       " '__annotations__',\n",
       " '__args__',\n",
       " '__class__',\n",
       " '__delattr__',\n",
       " '__dict__',\n",
       " '__dir__',\n",
       " '__doc__',\n",
       " '__eq__',\n",
       " '__extra__',\n",
       " '__format__',\n",
       " '__ge__',\n",
       " '__getattr__',\n",
       " '__getattribute__',\n",
       " '__getitem__',\n",
       " '__gt__',\n",
       " '__hash__',\n",
       " '__init__',\n",
       " '__init_subclass__',\n",
       " '__le__',\n",
       " '__len__',\n",
       " '__lt__',\n",
       " '__module__',\n",
       " '__ne__',\n",
       " '__new__',\n",
       " '__next_in_mro__',\n",
       " '__orig_bases__',\n",
       " '__origin__',\n",
       " '__parameters__',\n",
       " '__reduce__',\n",
       " '__reduce_ex__',\n",
       " '__repr__',\n",
       " '__setattr__',\n",
       " '__sizeof__',\n",
       " '__slots__',\n",
       " '__str__',\n",
       " '__subclasshook__',\n",
       " '__tree_hash__',\n",
       " '__weakref__',\n",
       " '_abc_cache',\n",
       " '_abc_generic_negative_cache',\n",
       " '_abc_generic_negative_cache_version',\n",
       " '_abc_registry',\n",
       " '_check_integrity',\n",
       " '_format_transform_repr',\n",
       " '_gorg',\n",
       " '_repr_indent',\n",
       " 'data',\n",
       " 'download',\n",
       " 'extra_repr',\n",
       " 'file_md5',\n",
       " 'filename',\n",
       " 'functions',\n",
       " 'labels',\n",
       " 'register_datapipe_as_function',\n",
       " 'register_function',\n",
       " 'root',\n",
       " 'split',\n",
       " 'split_list',\n",
       " 'target_transform',\n",
       " 'transform',\n",
       " 'transforms',\n",
       " 'url']"
      ]
     },
     "execution_count": 3,
     "metadata": {},
     "output_type": "execute_result"
    }
   ],
   "source": [
    "dir(svhn_train)"
   ]
  },
  {
   "cell_type": "code",
   "execution_count": 4,
   "id": "33baa216",
   "metadata": {},
   "outputs": [
    {
     "data": {
      "text/plain": [
       "(73257, 3, 32, 32)"
      ]
     },
     "execution_count": 4,
     "metadata": {},
     "output_type": "execute_result"
    }
   ],
   "source": [
    "svhn_train.data.shape"
   ]
  },
  {
   "cell_type": "code",
   "execution_count": 5,
   "id": "70d6a8ea",
   "metadata": {},
   "outputs": [
    {
     "data": {
      "text/plain": [
       "array([[[ 33,  15,  15, ...,  72,  82,  89],\n",
       "        [ 28,  14,  14, ...,  40,  67,  83],\n",
       "        [ 40,  18,  16, ...,  23,  35,  72],\n",
       "        ...,\n",
       "        [ 86,  87,  82, ..., 104, 104, 103],\n",
       "        [ 84,  86,  82, ..., 110, 106, 106],\n",
       "        [ 85,  89,  85, ..., 111, 109, 103]],\n",
       "\n",
       "       [[ 30,  23,  17, ...,  65,  77,  79],\n",
       "        [ 39,  25,  20, ...,  39,  58,  78],\n",
       "        [ 41,  21,  17, ...,  29,  42,  69],\n",
       "        ...,\n",
       "        [ 81,  82,  79, ..., 104, 105, 105],\n",
       "        [ 86,  79,  76, ..., 103, 105, 104],\n",
       "        [ 88,  82,  79, ..., 104, 105, 106]],\n",
       "\n",
       "       [[ 38,  19,  19, ...,  56,  57,  59],\n",
       "        [ 35,  22,  17, ...,  50,  52,  60],\n",
       "        [ 38,  26,  23, ...,  45,  44,  53],\n",
       "        ...,\n",
       "        [ 75,  71,  65, ...,  87,  81,  78],\n",
       "        [ 64,  72,  72, ...,  84,  85,  86],\n",
       "        [ 68,  72,  67, ...,  87,  86,  79]]], dtype=uint8)"
      ]
     },
     "execution_count": 5,
     "metadata": {},
     "output_type": "execute_result"
    }
   ],
   "source": [
    "svhn_train.data[0]"
   ]
  },
  {
   "cell_type": "code",
   "execution_count": null,
   "id": "9345f150",
   "metadata": {},
   "outputs": [],
   "source": []
  },
  {
   "cell_type": "code",
   "execution_count": 14,
   "id": "df1114f9",
   "metadata": {},
   "outputs": [],
   "source": [
    "import torch\n",
    "import numpy as np\n",
    "import torchvision\n",
    "import torchvision.transforms as transforms"
   ]
  },
  {
   "cell_type": "code",
   "execution_count": 16,
   "id": "a19a1f8d",
   "metadata": {},
   "outputs": [],
   "source": [
    "train_dataset = torchvision.datasets.SVHN(\n",
    "                root='./DATA/SVHN/', \n",
    "                transform=transforms.Compose(\n",
    "                    [\n",
    "                    transforms.RandomCrop(32, padding=4),\n",
    "                    transforms.RandomHorizontalFlip(),\n",
    "                    transforms.RandomRotation(15),\n",
    "                    transforms.ToTensor(),\n",
    "                    transforms.Normalize((109.9/255, 109.7/255, 113.8/255), (50.1/255, 50.6/255, 50.8/255))\n",
    "                    ]),\n",
    "                split='train')\n",
    "\n",
    "extra_dataset = torchvision.datasets.SVHN(\n",
    "                root='./DATA/SVHN/', \n",
    "                transform=transforms.Compose(\n",
    "                    [\n",
    "                    transforms.RandomCrop(32, padding=4),\n",
    "                    transforms.RandomHorizontalFlip(),\n",
    "                    transforms.RandomRotation(15),\n",
    "                    transforms.ToTensor(),\n",
    "                    transforms.Normalize((109.9/255, 109.7/255, 113.8/255), (50.1/255, 50.6/255, 50.8/255))\n",
    "                    ]),\n",
    "                split='extra')\n",
    "\n",
    "val_dataset = torchvision.datasets.SVHN(\n",
    "                root='./DATA/SVHN/', \n",
    "                transform=transforms.Compose(\n",
    "                    [\n",
    "                    transforms.ToTensor(),\n",
    "                    transforms.Normalize((109.9/255, 109.7/255, 113.8/255), (50.1/255, 50.6/255, 50.8/255))\n",
    "                    ]),\n",
    "                split='test') "
   ]
  },
  {
   "cell_type": "code",
   "execution_count": 17,
   "id": "2a1e8cf2",
   "metadata": {},
   "outputs": [
    {
     "data": {
      "text/plain": [
       "73257"
      ]
     },
     "execution_count": 17,
     "metadata": {},
     "output_type": "execute_result"
    }
   ],
   "source": [
    "len(train_dataset.data)"
   ]
  },
  {
   "cell_type": "code",
   "execution_count": 18,
   "id": "bf3729e0",
   "metadata": {},
   "outputs": [],
   "source": [
    "data = np.concatenate([train_dataset.data, extra_dataset.data], axis=0)\n",
    "labels = np.concatenate([train_dataset.labels, extra_dataset.labels], axis=0)\n",
    "train_dataset.data = data\n",
    "train_dataset.labels = labels"
   ]
  },
  {
   "cell_type": "code",
   "execution_count": 19,
   "id": "227673e7",
   "metadata": {},
   "outputs": [
    {
     "data": {
      "text/plain": [
       "604388"
      ]
     },
     "execution_count": 19,
     "metadata": {},
     "output_type": "execute_result"
    }
   ],
   "source": [
    "len(train_dataset.data)"
   ]
  },
  {
   "cell_type": "code",
   "execution_count": 13,
   "id": "c72ee078",
   "metadata": {},
   "outputs": [
    {
     "ename": "TypeError",
     "evalue": "expected Tensor as element 0 in argument 0, but got numpy.ndarray",
     "output_type": "error",
     "traceback": [
      "\u001b[0;31m---------------------------------------------------------------------\u001b[0m",
      "\u001b[0;31mTypeError\u001b[0m                           Traceback (most recent call last)",
      "\u001b[0;32m<ipython-input-13-fccf668da33c>\u001b[0m in \u001b[0;36m<module>\u001b[0;34m\u001b[0m\n\u001b[0;32m----> 1\u001b[0;31m \u001b[0mdata\u001b[0m \u001b[0;34m=\u001b[0m \u001b[0mtorch\u001b[0m\u001b[0;34m.\u001b[0m\u001b[0mconcat\u001b[0m\u001b[0;34m(\u001b[0m\u001b[0;34m[\u001b[0m\u001b[0mtrain_dataset\u001b[0m\u001b[0;34m.\u001b[0m\u001b[0mdata\u001b[0m\u001b[0;34m,\u001b[0m \u001b[0mextra_dataset\u001b[0m\u001b[0;34m.\u001b[0m\u001b[0mdata\u001b[0m\u001b[0;34m]\u001b[0m\u001b[0;34m,\u001b[0m \u001b[0mdim\u001b[0m\u001b[0;34m=\u001b[0m\u001b[0;36m0\u001b[0m\u001b[0;34m)\u001b[0m\u001b[0;34m\u001b[0m\u001b[0;34m\u001b[0m\u001b[0m\n\u001b[0m\u001b[1;32m      2\u001b[0m \u001b[0mlabels\u001b[0m \u001b[0;34m=\u001b[0m \u001b[0mtorch\u001b[0m\u001b[0;34m.\u001b[0m\u001b[0mconcat\u001b[0m\u001b[0;34m(\u001b[0m\u001b[0;34m[\u001b[0m\u001b[0mtrain_dataset\u001b[0m\u001b[0;34m.\u001b[0m\u001b[0mlabels\u001b[0m\u001b[0;34m,\u001b[0m \u001b[0mextra_dataset\u001b[0m\u001b[0;34m.\u001b[0m\u001b[0mlabels\u001b[0m\u001b[0;34m]\u001b[0m\u001b[0;34m,\u001b[0m \u001b[0mdim\u001b[0m\u001b[0;34m=\u001b[0m\u001b[0;36m0\u001b[0m\u001b[0;34m)\u001b[0m\u001b[0;34m\u001b[0m\u001b[0;34m\u001b[0m\u001b[0m\n\u001b[1;32m      3\u001b[0m \u001b[0mtrain_dataset\u001b[0m\u001b[0;34m.\u001b[0m\u001b[0mdata\u001b[0m \u001b[0;34m=\u001b[0m \u001b[0mdata\u001b[0m\u001b[0;34m\u001b[0m\u001b[0;34m\u001b[0m\u001b[0m\n\u001b[1;32m      4\u001b[0m \u001b[0mtrain_dataset\u001b[0m\u001b[0;34m.\u001b[0m\u001b[0mlabels\u001b[0m \u001b[0;34m=\u001b[0m \u001b[0mlabels\u001b[0m\u001b[0;34m\u001b[0m\u001b[0;34m\u001b[0m\u001b[0m\n",
      "\u001b[0;31mTypeError\u001b[0m: expected Tensor as element 0 in argument 0, but got numpy.ndarray"
     ]
    }
   ],
   "source": [
    "data = torch.concat([train_dataset.data, extra_dataset.data], dim=0)\n",
    "labels = torch.concat([train_dataset.labels, extra_dataset.labels], dim=0)\n",
    "train_dataset.data = data\n",
    "train_dataset.labels = labels"
   ]
  },
  {
   "cell_type": "code",
   "execution_count": null,
   "id": "f406e2ab",
   "metadata": {},
   "outputs": [],
   "source": []
  }
 ],
 "metadata": {
  "kernelspec": {
   "display_name": "Python 3",
   "language": "python",
   "name": "python3"
  },
  "language_info": {
   "codemirror_mode": {
    "name": "ipython",
    "version": 3
   },
   "file_extension": ".py",
   "mimetype": "text/x-python",
   "name": "python",
   "nbconvert_exporter": "python",
   "pygments_lexer": "ipython3",
   "version": "3.6.9"
  }
 },
 "nbformat": 4,
 "nbformat_minor": 5
}
