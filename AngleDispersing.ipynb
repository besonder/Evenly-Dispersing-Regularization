{
 "cells": [
  {
   "cell_type": "code",
   "execution_count": null,
   "id": "af2e6c01",
   "metadata": {},
   "outputs": [],
   "source": [
    "import torch"
   ]
  },
  {
   "cell_type": "code",
   "execution_count": 6,
   "id": "de4af24b",
   "metadata": {},
   "outputs": [],
   "source": [
    "def angle_analysis(W):\n",
    "    m = W.shape[0]\n",
    "    WWT = W @ torch.t(W)\n",
    "    norm2 = torch.diagonal(WWT, 0)\n",
    "    N = (torch.sqrt(norm2[:, None] @ norm2[None, :]).detach() + 1e-8)*1.001  \n",
    "    WWTN = WWT/N\n",
    "    theta = torch.arccos(WWTN)\n",
    "    M = torch.logical_not(torch.eye(m, dtype=bool))\n",
    "    max_theta = torch.amax(theta[M])\n",
    "    min_theta = torch.amin(theta[M])\n",
    "    mean_theta = torch.mean(theta[M])\n",
    "    return max_theta, min_theta, mean_theta"
   ]
  },
  {
   "cell_type": "code",
   "execution_count": null,
   "id": "438d4509",
   "metadata": {},
   "outputs": [],
   "source": []
  }
 ],
 "metadata": {
  "kernelspec": {
   "display_name": "Python 3",
   "language": "python",
   "name": "python3"
  },
  "language_info": {
   "codemirror_mode": {
    "name": "ipython",
    "version": 3
   },
   "file_extension": ".py",
   "mimetype": "text/x-python",
   "name": "python",
   "nbconvert_exporter": "python",
   "pygments_lexer": "ipython3",
   "version": "3.6.9"
  }
 },
 "nbformat": 4,
 "nbformat_minor": 5
}
